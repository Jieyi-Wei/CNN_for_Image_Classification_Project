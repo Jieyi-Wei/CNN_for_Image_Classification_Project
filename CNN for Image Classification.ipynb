{
 "cells": [
  {
   "cell_type": "markdown",
   "metadata": {
    "id": "3DR-eO17geWu"
   },
   "source": [
    "# Convolutional Neural Network"
   ]
  },
  {
   "cell_type": "markdown",
   "metadata": {
    "id": "EMefrVPCg-60"
   },
   "source": [
    "### Importing the libraries"
   ]
  },
  {
   "cell_type": "code",
   "metadata": {
    "executionInfo": {
     "elapsed": 4097,
     "status": "ok",
     "timestamp": 1727869696217,
     "user": {
      "displayName": "Hadelin de Ponteves",
      "userId": "15047218817161520419"
     },
     "user_tz": -240
    },
    "id": "sCV30xyVhFbE",
    "ExecuteTime": {
     "end_time": "2024-12-10T19:48:36.883959Z",
     "start_time": "2024-12-10T19:48:34.276206Z"
    }
   },
   "source": [
    "import tensorflow as tf\n",
    "from tensorflow.keras.preprocessing.image import ImageDataGenerator\n",
    "from tensorflow.keras.preprocessing import image\n",
    "from tensorflow.keras import layers, models, regularizers\n",
    "from tensorflow.keras.models import load_model"
   ],
   "outputs": [],
   "execution_count": 1
  },
  {
   "cell_type": "code",
   "metadata": {
    "colab": {
     "base_uri": "https://localhost:8080/",
     "height": 35
    },
    "executionInfo": {
     "elapsed": 612,
     "status": "ok",
     "timestamp": 1727869699295,
     "user": {
      "displayName": "Hadelin de Ponteves",
      "userId": "15047218817161520419"
     },
     "user_tz": -240
    },
    "id": "FIleuCAjoFD8",
    "outputId": "9c409700-4a44-4ac5-b45a-374e448511a6",
    "ExecuteTime": {
     "end_time": "2024-12-10T19:48:45.077770Z",
     "start_time": "2024-12-10T19:48:45.074590Z"
    }
   },
   "source": [
    "import numpy as np\n",
    "import os"
   ],
   "outputs": [],
   "execution_count": 2
  },
  {
   "cell_type": "markdown",
   "metadata": {
    "id": "oxQxCBWyoGPE"
   },
   "source": [
    "## Part 1 - Data Preprocessing"
   ]
  },
  {
   "cell_type": "markdown",
   "metadata": {
    "id": "MvE-heJNo3GG"
   },
   "source": [
    "### Preprocessing the Training set"
   ]
  },
  {
   "cell_type": "code",
   "metadata": {
    "colab": {
     "base_uri": "https://localhost:8080/"
    },
    "executionInfo": {
     "elapsed": 404,
     "status": "ok",
     "timestamp": 1727869709542,
     "user": {
      "displayName": "Hadelin de Ponteves",
      "userId": "15047218817161520419"
     },
     "user_tz": -240
    },
    "id": "0koUcJMJpEBD",
    "outputId": "12d2b27d-22f4-4af3-833f-5ca0cd00336c",
    "ExecuteTime": {
     "end_time": "2024-12-10T19:50:04.574388Z",
     "start_time": "2024-12-10T19:50:04.448128Z"
    }
   },
   "source": [
    "train_datagen = ImageDataGenerator(\n",
    "    rescale=1./255,\n",
    "    shear_range=0.1,\n",
    "    zoom_range=0.1,\n",
    "    horizontal_flip=True,\n",
    ")\n",
    "\n",
    "training_set = train_datagen.flow_from_directory(\n",
    "    'dataset/training_set',\n",
    "    target_size=(64, 64),\n",
    "    batch_size=32,\n",
    "    class_mode='binary'\n",
    ")"
   ],
   "outputs": [
    {
     "name": "stdout",
     "output_type": "stream",
     "text": [
      "Found 8000 images belonging to 2 classes.\n"
     ]
    }
   ],
   "execution_count": 5
  },
  {
   "cell_type": "markdown",
   "metadata": {
    "id": "mrCMmGw9pHys"
   },
   "source": [
    "### Preprocessing the Test set"
   ]
  },
  {
   "cell_type": "code",
   "metadata": {
    "colab": {
     "base_uri": "https://localhost:8080/"
    },
    "executionInfo": {
     "elapsed": 432,
     "status": "ok",
     "timestamp": 1727869749266,
     "user": {
      "displayName": "Hadelin de Ponteves",
      "userId": "15047218817161520419"
     },
     "user_tz": -240
    },
    "id": "SH4WzfOhpKc3",
    "outputId": "eefdf71b-6707-4ad0-99db-04603d820197",
    "ExecuteTime": {
     "end_time": "2024-12-10T19:50:06.375753Z",
     "start_time": "2024-12-10T19:50:06.337197Z"
    }
   },
   "source": [
    "test_datagen = ImageDataGenerator(rescale=1./255)\n",
    "\n",
    "test_set = test_datagen.flow_from_directory(\n",
    "    'dataset/test_set',\n",
    "    target_size=(64,64),\n",
    "    batch_size=32,\n",
    "    class_mode='binary',\n",
    "    shuffle=False\n",
    ")"
   ],
   "outputs": [
    {
     "name": "stdout",
     "output_type": "stream",
     "text": [
      "Found 2000 images belonging to 2 classes.\n"
     ]
    }
   ],
   "execution_count": 6
  },
  {
   "cell_type": "markdown",
   "metadata": {
    "id": "af8O4l90gk7B"
   },
   "source": [
    "## Part 2 - Building the CNN"
   ]
  },
  {
   "cell_type": "markdown",
   "metadata": {
    "id": "ces1gXY2lmoX"
   },
   "source": [
    "### Initialising the CNN"
   ]
  },
  {
   "cell_type": "code",
   "metadata": {
    "executionInfo": {
     "elapsed": 470,
     "status": "ok",
     "timestamp": 1727869817668,
     "user": {
      "displayName": "Hadelin de Ponteves",
      "userId": "15047218817161520419"
     },
     "user_tz": -240
    },
    "id": "SAUt4UMPlhLS",
    "ExecuteTime": {
     "end_time": "2024-12-08T02:20:03.682336Z",
     "start_time": "2024-12-08T02:20:03.679104Z"
    }
   },
   "source": "model = tf.keras.models.Sequential()",
   "outputs": [],
   "execution_count": 83
  },
  {
   "cell_type": "markdown",
   "metadata": {
    "id": "u5YJj_XMl5LF"
   },
   "source": [
    "### Step 1 - Convolution"
   ]
  },
  {
   "cell_type": "code",
   "metadata": {
    "colab": {
     "base_uri": "https://localhost:8080/"
    },
    "executionInfo": {
     "elapsed": 415,
     "status": "ok",
     "timestamp": 1727869820333,
     "user": {
      "displayName": "Hadelin de Ponteves",
      "userId": "15047218817161520419"
     },
     "user_tz": -240
    },
    "id": "XPzPrMckl-hV",
    "outputId": "329e2f0a-ec6c-4b72-c6ad-000f7ba7cda6",
    "ExecuteTime": {
     "end_time": "2024-12-08T02:20:04.902019Z",
     "start_time": "2024-12-08T02:20:04.894516Z"
    }
   },
   "source": "model.add(tf.keras.layers.Conv2D(filters=32, kernel_size=3, activation='relu', input_shape=[64,64,3], kernel_regularizer=regularizers.l2(0.001)))",
   "outputs": [],
   "execution_count": 84
  },
  {
   "cell_type": "markdown",
   "metadata": {
    "id": "tf87FpvxmNOJ"
   },
   "source": [
    "### Step 2 - Pooling"
   ]
  },
  {
   "cell_type": "code",
   "metadata": {
    "executionInfo": {
     "elapsed": 637,
     "status": "ok",
     "timestamp": 1727869823557,
     "user": {
      "displayName": "Hadelin de Ponteves",
      "userId": "15047218817161520419"
     },
     "user_tz": -240
    },
    "id": "ncpqPl69mOac",
    "ExecuteTime": {
     "end_time": "2024-12-08T02:20:06.221219Z",
     "start_time": "2024-12-08T02:20:06.216189Z"
    }
   },
   "source": "model.add(tf.keras.layers.MaxPooling2D(pool_size=2, strides=2))",
   "outputs": [],
   "execution_count": 85
  },
  {
   "cell_type": "markdown",
   "metadata": {
    "id": "xaTOgD8rm4mU"
   },
   "source": [
    "### Adding a second convolutional layer"
   ]
  },
  {
   "cell_type": "code",
   "metadata": {
    "executionInfo": {
     "elapsed": 406,
     "status": "ok",
     "timestamp": 1727869826266,
     "user": {
      "displayName": "Hadelin de Ponteves",
      "userId": "15047218817161520419"
     },
     "user_tz": -240
    },
    "id": "i_-FZjn_m8gk",
    "ExecuteTime": {
     "end_time": "2024-12-08T02:20:07.334068Z",
     "start_time": "2024-12-08T02:20:07.323545Z"
    }
   },
   "source": [
    "model.add(tf.keras.layers.Conv2D(filters=64, kernel_size=3, activation='relu'))\n",
    "model.add(layers.MaxPooling2D(pool_size=2, strides=2))"
   ],
   "outputs": [],
   "execution_count": 86
  },
  {
   "cell_type": "markdown",
   "metadata": {
    "id": "tmiEuvTunKfk"
   },
   "source": [
    "### Step 3 - Flattening"
   ]
  },
  {
   "cell_type": "code",
   "metadata": {
    "executionInfo": {
     "elapsed": 617,
     "status": "ok",
     "timestamp": 1727869828932,
     "user": {
      "displayName": "Hadelin de Ponteves",
      "userId": "15047218817161520419"
     },
     "user_tz": -240
    },
    "id": "6AZeOGCvnNZn",
    "ExecuteTime": {
     "end_time": "2024-12-08T02:20:08.574344Z",
     "start_time": "2024-12-08T02:20:08.568650Z"
    }
   },
   "source": "model.add(tf.keras.layers.Flatten())",
   "outputs": [],
   "execution_count": 87
  },
  {
   "cell_type": "markdown",
   "metadata": {
    "id": "dAoSECOm203v"
   },
   "source": [
    "### Step 4 - Full Connection"
   ]
  },
  {
   "cell_type": "code",
   "metadata": {
    "executionInfo": {
     "elapsed": 384,
     "status": "ok",
     "timestamp": 1727869831487,
     "user": {
      "displayName": "Hadelin de Ponteves",
      "userId": "15047218817161520419"
     },
     "user_tz": -240
    },
    "id": "8GtmUlLd26Nq",
    "ExecuteTime": {
     "end_time": "2024-12-08T02:20:09.890594Z",
     "start_time": "2024-12-08T02:20:09.881721Z"
    }
   },
   "source": "model.add(layers.Dense(128, activation='relu', kernel_regularizer=regularizers.l2(0.001)))",
   "outputs": [],
   "execution_count": 88
  },
  {
   "cell_type": "markdown",
   "metadata": {
    "id": "yTldFvbX28Na"
   },
   "source": [
    "### Step 5 - Output Layer"
   ]
  },
  {
   "cell_type": "code",
   "metadata": {
    "executionInfo": {
     "elapsed": 433,
     "status": "ok",
     "timestamp": 1727870028191,
     "user": {
      "displayName": "Hadelin de Ponteves",
      "userId": "15047218817161520419"
     },
     "user_tz": -240
    },
    "id": "1p_Zj1Mc3Ko_",
    "ExecuteTime": {
     "end_time": "2024-12-08T02:20:11.090656Z",
     "start_time": "2024-12-08T02:20:11.081462Z"
    }
   },
   "source": "model.add(tf.keras.layers.Dense(units=1, activation='sigmoid'))",
   "outputs": [],
   "execution_count": 89
  },
  {
   "cell_type": "markdown",
   "metadata": {
    "id": "D6XkI90snSDl"
   },
   "source": [
    "## Part 3 - Training the CNN"
   ]
  },
  {
   "cell_type": "markdown",
   "metadata": {
    "id": "vfrFQACEnc6i"
   },
   "source": [
    "### Compiling the CNN"
   ]
  },
  {
   "cell_type": "code",
   "metadata": {
    "executionInfo": {
     "elapsed": 416,
     "status": "ok",
     "timestamp": 1727870049309,
     "user": {
      "displayName": "Hadelin de Ponteves",
      "userId": "15047218817161520419"
     },
     "user_tz": -240
    },
    "id": "NALksrNQpUlJ",
    "ExecuteTime": {
     "end_time": "2024-12-08T02:20:12.544349Z",
     "start_time": "2024-12-08T02:20:12.538992Z"
    }
   },
   "source": [
    "optimizer = tf.keras.optimizers.Adam(learning_rate=0.0001)\n",
    "model.compile(optimizer=optimizer, loss='binary_crossentropy', metrics=['accuracy'])\n"
   ],
   "outputs": [],
   "execution_count": 90
  },
  {
   "cell_type": "markdown",
   "metadata": {
    "id": "ehS-v3MIpX2h"
   },
   "source": [
    "### Training the CNN on the Training set and evaluating it on the Test set"
   ]
  },
  {
   "cell_type": "code",
   "metadata": {
    "colab": {
     "base_uri": "https://localhost:8080/"
    },
    "executionInfo": {
     "elapsed": 53294,
     "status": "ok",
     "timestamp": 1727870127564,
     "user": {
      "displayName": "Hadelin de Ponteves",
      "userId": "15047218817161520419"
     },
     "user_tz": -240
    },
    "id": "XUj1W4PJptta",
    "outputId": "6af733bf-672f-4229-efe2-f0847b4118e7",
    "ExecuteTime": {
     "end_time": "2024-12-08T02:28:06.717984Z",
     "start_time": "2024-12-08T02:20:18.349737Z"
    }
   },
   "source": [
    "history = model.fit(\n",
    "    x=training_set,\n",
    "    validation_data=test_set,\n",
    "    epochs=30,\n",
    ")\n",
    "model.save('cnn_model.keras')\n"
   ],
   "outputs": [
    {
     "name": "stdout",
     "output_type": "stream",
     "text": [
      "Epoch 1/30\n",
      "\u001B[1m250/250\u001B[0m \u001B[32m━━━━━━━━━━━━━━━━━━━━\u001B[0m\u001B[37m\u001B[0m \u001B[1m17s\u001B[0m 63ms/step - accuracy: 0.5708 - loss: 0.8720 - val_accuracy: 0.6040 - val_loss: 0.7550\n",
      "Epoch 2/30\n",
      "\u001B[1m250/250\u001B[0m \u001B[32m━━━━━━━━━━━━━━━━━━━━\u001B[0m\u001B[37m\u001B[0m \u001B[1m15s\u001B[0m 62ms/step - accuracy: 0.6674 - loss: 0.7185 - val_accuracy: 0.6700 - val_loss: 0.6830\n",
      "Epoch 3/30\n",
      "\u001B[1m250/250\u001B[0m \u001B[32m━━━━━━━━━━━━━━━━━━━━\u001B[0m\u001B[37m\u001B[0m \u001B[1m15s\u001B[0m 61ms/step - accuracy: 0.6912 - loss: 0.6682 - val_accuracy: 0.7050 - val_loss: 0.6509\n",
      "Epoch 4/30\n",
      "\u001B[1m250/250\u001B[0m \u001B[32m━━━━━━━━━━━━━━━━━━━━\u001B[0m\u001B[37m\u001B[0m \u001B[1m15s\u001B[0m 62ms/step - accuracy: 0.7098 - loss: 0.6310 - val_accuracy: 0.7050 - val_loss: 0.6384\n",
      "Epoch 5/30\n",
      "\u001B[1m250/250\u001B[0m \u001B[32m━━━━━━━━━━━━━━━━━━━━\u001B[0m\u001B[37m\u001B[0m \u001B[1m15s\u001B[0m 61ms/step - accuracy: 0.7407 - loss: 0.5965 - val_accuracy: 0.6790 - val_loss: 0.6691\n",
      "Epoch 6/30\n",
      "\u001B[1m250/250\u001B[0m \u001B[32m━━━━━━━━━━━━━━━━━━━━\u001B[0m\u001B[37m\u001B[0m \u001B[1m15s\u001B[0m 62ms/step - accuracy: 0.7428 - loss: 0.5840 - val_accuracy: 0.7165 - val_loss: 0.6156\n",
      "Epoch 7/30\n",
      "\u001B[1m250/250\u001B[0m \u001B[32m━━━━━━━━━━━━━━━━━━━━\u001B[0m\u001B[37m\u001B[0m \u001B[1m15s\u001B[0m 61ms/step - accuracy: 0.7649 - loss: 0.5598 - val_accuracy: 0.7575 - val_loss: 0.5588\n",
      "Epoch 8/30\n",
      "\u001B[1m250/250\u001B[0m \u001B[32m━━━━━━━━━━━━━━━━━━━━\u001B[0m\u001B[37m\u001B[0m \u001B[1m15s\u001B[0m 62ms/step - accuracy: 0.7649 - loss: 0.5565 - val_accuracy: 0.7510 - val_loss: 0.5582\n",
      "Epoch 9/30\n",
      "\u001B[1m250/250\u001B[0m \u001B[32m━━━━━━━━━━━━━━━━━━━━\u001B[0m\u001B[37m\u001B[0m \u001B[1m16s\u001B[0m 62ms/step - accuracy: 0.7601 - loss: 0.5456 - val_accuracy: 0.7605 - val_loss: 0.5483\n",
      "Epoch 10/30\n",
      "\u001B[1m250/250\u001B[0m \u001B[32m━━━━━━━━━━━━━━━━━━━━\u001B[0m\u001B[37m\u001B[0m \u001B[1m16s\u001B[0m 62ms/step - accuracy: 0.7639 - loss: 0.5370 - val_accuracy: 0.7625 - val_loss: 0.5492\n",
      "Epoch 11/30\n",
      "\u001B[1m250/250\u001B[0m \u001B[32m━━━━━━━━━━━━━━━━━━━━\u001B[0m\u001B[37m\u001B[0m \u001B[1m16s\u001B[0m 62ms/step - accuracy: 0.7599 - loss: 0.5432 - val_accuracy: 0.7545 - val_loss: 0.5588\n",
      "Epoch 12/30\n",
      "\u001B[1m250/250\u001B[0m \u001B[32m━━━━━━━━━━━━━━━━━━━━\u001B[0m\u001B[37m\u001B[0m \u001B[1m16s\u001B[0m 62ms/step - accuracy: 0.7719 - loss: 0.5236 - val_accuracy: 0.7395 - val_loss: 0.5772\n",
      "Epoch 13/30\n",
      "\u001B[1m250/250\u001B[0m \u001B[32m━━━━━━━━━━━━━━━━━━━━\u001B[0m\u001B[37m\u001B[0m \u001B[1m16s\u001B[0m 63ms/step - accuracy: 0.7838 - loss: 0.5065 - val_accuracy: 0.7430 - val_loss: 0.5693\n",
      "Epoch 14/30\n",
      "\u001B[1m250/250\u001B[0m \u001B[32m━━━━━━━━━━━━━━━━━━━━\u001B[0m\u001B[37m\u001B[0m \u001B[1m16s\u001B[0m 62ms/step - accuracy: 0.7885 - loss: 0.5034 - val_accuracy: 0.7640 - val_loss: 0.5379\n",
      "Epoch 15/30\n",
      "\u001B[1m250/250\u001B[0m \u001B[32m━━━━━━━━━━━━━━━━━━━━\u001B[0m\u001B[37m\u001B[0m \u001B[1m16s\u001B[0m 62ms/step - accuracy: 0.7980 - loss: 0.4917 - val_accuracy: 0.7750 - val_loss: 0.5139\n",
      "Epoch 16/30\n",
      "\u001B[1m250/250\u001B[0m \u001B[32m━━━━━━━━━━━━━━━━━━━━\u001B[0m\u001B[37m\u001B[0m \u001B[1m16s\u001B[0m 63ms/step - accuracy: 0.8020 - loss: 0.4903 - val_accuracy: 0.7815 - val_loss: 0.5129\n",
      "Epoch 17/30\n",
      "\u001B[1m250/250\u001B[0m \u001B[32m━━━━━━━━━━━━━━━━━━━━\u001B[0m\u001B[37m\u001B[0m \u001B[1m16s\u001B[0m 62ms/step - accuracy: 0.7968 - loss: 0.4882 - val_accuracy: 0.7795 - val_loss: 0.5149\n",
      "Epoch 18/30\n",
      "\u001B[1m250/250\u001B[0m \u001B[32m━━━━━━━━━━━━━━━━━━━━\u001B[0m\u001B[37m\u001B[0m \u001B[1m16s\u001B[0m 62ms/step - accuracy: 0.7959 - loss: 0.4841 - val_accuracy: 0.7795 - val_loss: 0.5173\n",
      "Epoch 19/30\n",
      "\u001B[1m250/250\u001B[0m \u001B[32m━━━━━━━━━━━━━━━━━━━━\u001B[0m\u001B[37m\u001B[0m \u001B[1m16s\u001B[0m 62ms/step - accuracy: 0.7931 - loss: 0.4837 - val_accuracy: 0.7395 - val_loss: 0.5709\n",
      "Epoch 20/30\n",
      "\u001B[1m250/250\u001B[0m \u001B[32m━━━━━━━━━━━━━━━━━━━━\u001B[0m\u001B[37m\u001B[0m \u001B[1m16s\u001B[0m 62ms/step - accuracy: 0.7916 - loss: 0.4780 - val_accuracy: 0.7595 - val_loss: 0.5541\n",
      "Epoch 21/30\n",
      "\u001B[1m250/250\u001B[0m \u001B[32m━━━━━━━━━━━━━━━━━━━━\u001B[0m\u001B[37m\u001B[0m \u001B[1m16s\u001B[0m 63ms/step - accuracy: 0.8009 - loss: 0.4730 - val_accuracy: 0.7770 - val_loss: 0.5107\n",
      "Epoch 22/30\n",
      "\u001B[1m250/250\u001B[0m \u001B[32m━━━━━━━━━━━━━━━━━━━━\u001B[0m\u001B[37m\u001B[0m \u001B[1m16s\u001B[0m 63ms/step - accuracy: 0.8031 - loss: 0.4721 - val_accuracy: 0.7790 - val_loss: 0.5144\n",
      "Epoch 23/30\n",
      "\u001B[1m250/250\u001B[0m \u001B[32m━━━━━━━━━━━━━━━━━━━━\u001B[0m\u001B[37m\u001B[0m \u001B[1m15s\u001B[0m 62ms/step - accuracy: 0.8116 - loss: 0.4658 - val_accuracy: 0.7820 - val_loss: 0.4973\n",
      "Epoch 24/30\n",
      "\u001B[1m250/250\u001B[0m \u001B[32m━━━━━━━━━━━━━━━━━━━━\u001B[0m\u001B[37m\u001B[0m \u001B[1m16s\u001B[0m 62ms/step - accuracy: 0.8012 - loss: 0.4657 - val_accuracy: 0.7850 - val_loss: 0.5006\n",
      "Epoch 25/30\n",
      "\u001B[1m250/250\u001B[0m \u001B[32m━━━━━━━━━━━━━━━━━━━━\u001B[0m\u001B[37m\u001B[0m \u001B[1m16s\u001B[0m 62ms/step - accuracy: 0.8129 - loss: 0.4575 - val_accuracy: 0.7725 - val_loss: 0.5171\n",
      "Epoch 26/30\n",
      "\u001B[1m250/250\u001B[0m \u001B[32m━━━━━━━━━━━━━━━━━━━━\u001B[0m\u001B[37m\u001B[0m \u001B[1m16s\u001B[0m 63ms/step - accuracy: 0.8075 - loss: 0.4618 - val_accuracy: 0.7880 - val_loss: 0.4968\n",
      "Epoch 27/30\n",
      "\u001B[1m250/250\u001B[0m \u001B[32m━━━━━━━━━━━━━━━━━━━━\u001B[0m\u001B[37m\u001B[0m \u001B[1m16s\u001B[0m 62ms/step - accuracy: 0.8051 - loss: 0.4562 - val_accuracy: 0.7615 - val_loss: 0.5388\n",
      "Epoch 28/30\n",
      "\u001B[1m250/250\u001B[0m \u001B[32m━━━━━━━━━━━━━━━━━━━━\u001B[0m\u001B[37m\u001B[0m \u001B[1m16s\u001B[0m 62ms/step - accuracy: 0.8115 - loss: 0.4528 - val_accuracy: 0.7580 - val_loss: 0.5503\n",
      "Epoch 29/30\n",
      "\u001B[1m250/250\u001B[0m \u001B[32m━━━━━━━━━━━━━━━━━━━━\u001B[0m\u001B[37m\u001B[0m \u001B[1m16s\u001B[0m 63ms/step - accuracy: 0.8150 - loss: 0.4509 - val_accuracy: 0.7735 - val_loss: 0.5130\n",
      "Epoch 30/30\n",
      "\u001B[1m250/250\u001B[0m \u001B[32m━━━━━━━━━━━━━━━━━━━━\u001B[0m\u001B[37m\u001B[0m \u001B[1m16s\u001B[0m 63ms/step - accuracy: 0.8266 - loss: 0.4411 - val_accuracy: 0.7935 - val_loss: 0.4822\n"
     ]
    }
   ],
   "execution_count": 91
  },
  {
   "cell_type": "markdown",
   "metadata": {
    "id": "U3PZasO0006Z"
   },
   "source": [
    "## Part 4 - Making a single prediction"
   ]
  },
  {
   "metadata": {
    "colab": {
     "base_uri": "https://localhost:8080/"
    },
    "executionInfo": {
     "elapsed": 553,
     "status": "ok",
     "timestamp": 1727870175470,
     "user": {
      "displayName": "Hadelin de Ponteves",
      "userId": "15047218817161520419"
     },
     "user_tz": -240
    },
    "id": "gsSiWEJY1BPB",
    "outputId": "3a1eabe0-aa2b-48ac-cc6e-a32906dbf08e",
    "ExecuteTime": {
     "end_time": "2024-12-10T19:50:15.921119Z",
     "start_time": "2024-12-10T19:50:15.861077Z"
    }
   },
   "cell_type": "code",
   "source": [
    "def load_and_preprocess_image(image_path):\n",
    "    test_image = image.load_img(image_path, target_size=(64, 64))\n",
    "    test_image_array = image.img_to_array(test_image)\n",
    "    test_image_array = np.expand_dims(test_image_array, axis=0)\n",
    "    test_image_array = test_image_array / 255.0\n",
    "    return test_image_array\n",
    "\n",
    "def predict_image(model_name, image_array, class_indices):\n",
    "    print(\"Making predictions...\")\n",
    "    result = model_name.predict(image_array)\n",
    "    print(\"Prediction raw output:\", result)\n",
    "    print(\"Class Indices:\", class_indices)\n",
    "    \n",
    "    if result > 0.5:\n",
    "        prediction = 'dog'\n",
    "    else:\n",
    "        prediction = 'cat'\n",
    "    print(f\"The model predicts this image is a: {prediction}. \\n\")\n",
    "    \n",
    "model = load_model('cnn_model.keras')"
   ],
   "outputs": [],
   "execution_count": 7
  },
  {
   "metadata": {
    "colab": {
     "base_uri": "https://localhost:8080/"
    },
    "executionInfo": {
     "elapsed": 402,
     "status": "ok",
     "timestamp": 1727870200094,
     "user": {
      "displayName": "Hadelin de Ponteves",
      "userId": "15047218817161520419"
     },
     "user_tz": -240
    },
    "id": "ED9KB3I54c1i",
    "outputId": "7f130fcb-f755-463d-c743-b9d3565b5e97",
    "ExecuteTime": {
     "end_time": "2024-12-10T19:52:21.307708Z",
     "start_time": "2024-12-10T19:52:20.797555Z"
    }
   },
   "cell_type": "code",
   "source": [
    "print(\"Image: cat_or_dog_1.jpg is a dog.\")\n",
    "single_image_path_1 = 'dataset/single_prediction/cat_or_dog_1.jpg'\n",
    "test_image_array_1 = load_and_preprocess_image(single_image_path_1)\n",
    "predict_image(model, test_image_array_1, training_set.class_indices)\n",
    "\n",
    "print(\"Image: cat_or_dog_2.jpg is a cat.\")\n",
    "single_image_path_2 = 'dataset/single_prediction/cat_or_dog_2.jpg'\n",
    "test_image_array_2 = load_and_preprocess_image(single_image_path_2)\n",
    "predict_image(model, test_image_array_2, training_set.class_indices)\n",
    "\n",
    "print(\"Image: cat_or_dog_3.jpg is a dog.\")\n",
    "single_image_path_3 = 'dataset/single_prediction/cat_or_dog_3.jpg'\n",
    "test_image_array_3 = load_and_preprocess_image(single_image_path_3)\n",
    "predict_image(model, test_image_array_3, training_set.class_indices)\n",
    "\n",
    "print(\"Image: cat_or_dog_4.jpg is a cat.\")\n",
    "single_image_path_4 = 'dataset/single_prediction/cat_or_dog_4.jpg'\n",
    "test_image_array_4 = load_and_preprocess_image(single_image_path_4)\n",
    "predict_image(model, test_image_array_4, training_set.class_indices)"
   ],
   "outputs": [
    {
     "name": "stdout",
     "output_type": "stream",
     "text": [
      "Image: cat_or_dog_1.jpg is a dog.\n",
      "Making predictions...\n",
      "\u001B[1m1/1\u001B[0m \u001B[32m━━━━━━━━━━━━━━━━━━━━\u001B[0m\u001B[37m\u001B[0m \u001B[1m0s\u001B[0m 21ms/step\n",
      "Prediction raw output: [[0.9947713]]\n",
      "Class Indices: {'cats': 0, 'dogs': 1}\n",
      "The model predicts this image is a: dog. \n",
      "\n",
      "Image: cat_or_dog_2.jpg is a cat.\n",
      "Making predictions...\n",
      "\u001B[1m1/1\u001B[0m \u001B[32m━━━━━━━━━━━━━━━━━━━━\u001B[0m\u001B[37m\u001B[0m \u001B[1m0s\u001B[0m 22ms/step\n",
      "Prediction raw output: [[0.0724668]]\n",
      "Class Indices: {'cats': 0, 'dogs': 1}\n",
      "The model predicts this image is a: cat. \n",
      "\n",
      "Image: cat_or_dog_3.jpg is a dog.\n",
      "Making predictions...\n",
      "\u001B[1m1/1\u001B[0m \u001B[32m━━━━━━━━━━━━━━━━━━━━\u001B[0m\u001B[37m\u001B[0m \u001B[1m0s\u001B[0m 21ms/step\n",
      "Prediction raw output: [[0.90196526]]\n",
      "Class Indices: {'cats': 0, 'dogs': 1}\n",
      "The model predicts this image is a: dog. \n",
      "\n",
      "Image: cat_or_dog_4.jpg is a cat.\n",
      "Making predictions...\n",
      "\u001B[1m1/1\u001B[0m \u001B[32m━━━━━━━━━━━━━━━━━━━━\u001B[0m\u001B[37m\u001B[0m \u001B[1m0s\u001B[0m 21ms/step\n",
      "Prediction raw output: [[0.13769597]]\n",
      "Class Indices: {'cats': 0, 'dogs': 1}\n",
      "The model predicts this image is a: cat. \n",
      "\n"
     ]
    }
   ],
   "execution_count": 11
  },
  {
   "metadata": {},
   "cell_type": "markdown",
   "source": [
    "## 1. Github link：\n",
    "https://github.com/Jieyi-Wei/CNN_for_Image_Classification_Project\n",
    "## 2. Medium link\n",
    "preparing..."
   ]
  }
 ],
 "metadata": {
  "colab": {
   "authorship_tag": "ABX9TyN2fBThgo8wJQn6Xf6V6crC",
   "provenance": []
  },
  "kernelspec": {
   "display_name": "Python 3 (ipykernel)",
   "language": "python",
   "name": "python3"
  },
  "language_info": {
   "codemirror_mode": {
    "name": "ipython",
    "version": 3
   },
   "file_extension": ".py",
   "mimetype": "text/x-python",
   "name": "python",
   "nbconvert_exporter": "python",
   "pygments_lexer": "ipython3",
   "version": "3.11.7"
  }
 },
 "nbformat": 4,
 "nbformat_minor": 4
}
