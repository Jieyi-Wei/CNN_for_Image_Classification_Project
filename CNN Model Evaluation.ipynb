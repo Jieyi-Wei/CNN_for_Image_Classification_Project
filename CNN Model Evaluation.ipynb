{
 "cells": [
  {
   "metadata": {},
   "cell_type": "markdown",
   "source": "# Model Evaluation",
   "id": "9a716d4b370b4adb"
  },
  {
   "metadata": {},
   "cell_type": "markdown",
   "source": "### Importing the libraries",
   "id": "592262e99fdc9880"
  },
  {
   "cell_type": "code",
   "id": "initial_id",
   "metadata": {
    "collapsed": true,
    "ExecuteTime": {
     "end_time": "2024-12-10T20:37:36.735062Z",
     "start_time": "2024-12-10T20:37:34.565457Z"
    }
   },
   "source": [
    "import numpy as np\n",
    "import matplotlib.pyplot as plt\n",
    "import seaborn as sns\n",
    "import tensorflow as tf\n",
    "from tensorflow.keras.preprocessing.image import ImageDataGenerator\n",
    "from tensorflow.keras.models import load_model\n",
    "from sklearn.metrics import confusion_matrix, classification_report"
   ],
   "outputs": [],
   "execution_count": 1
  },
  {
   "metadata": {},
   "cell_type": "markdown",
   "source": "### Preprocessing the Training set",
   "id": "858d35c143d9d52d"
  },
  {
   "metadata": {
    "ExecuteTime": {
     "end_time": "2024-12-10T20:37:36.787266Z",
     "start_time": "2024-12-10T20:37:36.745065Z"
    }
   },
   "cell_type": "code",
   "source": [
    "test_datagen = ImageDataGenerator(rescale=1./255)\n",
    "\n",
    "test_set = test_datagen.flow_from_directory(\n",
    "    'dataset/test_set',\n",
    "    target_size=(64,64),\n",
    "    batch_size=32,\n",
    "    class_mode='binary',\n",
    "    shuffle=False\n",
    ")"
   ],
   "id": "248f3fe97ce9808e",
   "outputs": [
    {
     "name": "stdout",
     "output_type": "stream",
     "text": [
      "Found 2000 images belonging to 2 classes.\n"
     ]
    }
   ],
   "execution_count": 2
  },
  {
   "metadata": {},
   "cell_type": "markdown",
   "source": "### Evaluate the Model's Performance on the Test Set",
   "id": "6b24d6c8c0430344"
  },
  {
   "metadata": {
    "ExecuteTime": {
     "end_time": "2024-12-10T20:37:48.113035Z",
     "start_time": "2024-12-10T20:37:45.537751Z"
    }
   },
   "cell_type": "code",
   "source": [
    "model = load_model('cnn_model.keras')\n",
    "\n",
    "test_loss, test_accuracy = model.evaluate(test_set)\n",
    "print(f\"Test Loss: {test_loss}\")\n",
    "print(f\"Test Accuracy: {test_accuracy}\")\n"
   ],
   "id": "4a9073950f775592",
   "outputs": [
    {
     "name": "stdout",
     "output_type": "stream",
     "text": [
      "\u001B[1m63/63\u001B[0m \u001B[32m━━━━━━━━━━━━━━━━━━━━\u001B[0m\u001B[37m\u001B[0m \u001B[1m2s\u001B[0m 34ms/step - accuracy: 0.8011 - loss: 0.4863\n",
      "Test Loss: 0.48221081495285034\n",
      "Test Accuracy: 0.7935000061988831\n"
     ]
    }
   ],
   "execution_count": 6
  },
  {
   "metadata": {},
   "cell_type": "markdown",
   "source": "## Confusion Matrix",
   "id": "eb3e31d80b18f5e1"
  },
  {
   "metadata": {
    "ExecuteTime": {
     "end_time": "2024-12-10T20:37:52.181112Z",
     "start_time": "2024-12-10T20:37:49.771235Z"
    }
   },
   "cell_type": "code",
   "source": [
    "# Generate predictions for the test set\n",
    "predictions = model.predict(test_set)\n",
    "# Convert probabilities to binary classes (0 or 1)\n",
    "predicted_classes = (predictions > 0.5).astype(int).reshape(-1)\n",
    "\n",
    "# Get true class labels\n",
    "true_classes = test_set.classes\n",
    "# Get class labels ( ['cats', 'dogs'])\n",
    "class_labels = list(test_set.class_indices.keys())\n",
    "\n",
    "# Generate confusion matrix\n",
    "cm = confusion_matrix(true_classes, predicted_classes)\n",
    "print(\"Confusion Matrix:\")\n",
    "print(cm)\n",
    "\n",
    "# Visualize the confusion matrix using seaborn\n",
    "plt.figure(figsize=(6, 4))\n",
    "sns.heatmap(cm, annot=True, fmt='d', cmap='Blues',\n",
    "            xticklabels=class_labels, yticklabels=class_labels)\n",
    "plt.xlabel('Predicted Labels')\n",
    "plt.ylabel('True Labels')\n",
    "plt.title('Confusion Matrix')\n",
    "plt.show()"
   ],
   "id": "e3540f2a490c2a39",
   "outputs": [
    {
     "name": "stdout",
     "output_type": "stream",
     "text": [
      "\u001B[1m63/63\u001B[0m \u001B[32m━━━━━━━━━━━━━━━━━━━━\u001B[0m\u001B[37m\u001B[0m \u001B[1m2s\u001B[0m 35ms/step\n",
      "Confusion Matrix:\n",
      "[[792 208]\n",
      " [205 795]]\n"
     ]
    },
    {
     "data": {
      "text/plain": [
       "<Figure size 600x400 with 2 Axes>"
      ],
      "image/png": "[encoded data removed]"
     },
     "metadata": {},
     "output_type": "display_data"
    }
   ],
   "execution_count": 7
  },
  {
   "metadata": {},
   "cell_type": "markdown",
   "source": "## Generate Classification Report",
   "id": "1e4beb78627c0cc9"
  },
  {
   "metadata": {
    "ExecuteTime": {
     "end_time": "2024-12-10T20:38:03.608724Z",
     "start_time": "2024-12-10T20:38:03.600435Z"
    }
   },
   "cell_type": "code",
   "source": [
    "print(\"Classification Report:\")\n",
    "print(classification_report(true_classes, predicted_classes, target_names=class_labels))"
   ],
   "id": "99e34031bacc2b7c",
   "outputs": [
    {
     "name": "stdout",
     "output_type": "stream",
     "text": [
      "Classification Report:\n",
      "              precision    recall  f1-score   support\n",
      "\n",
      "        cats       0.79      0.79      0.79      1000\n",
      "        dogs       0.79      0.80      0.79      1000\n",
      "\n",
      "    accuracy                           0.79      2000\n",
      "   macro avg       0.79      0.79      0.79      2000\n",
      "weighted avg       0.79      0.79      0.79      2000\n",
      "\n"
     ]
    }
   ],
   "execution_count": 8
  }
 ],
 "metadata": {
  "kernelspec": {
   "display_name": "Python 3",
   "language": "python",
   "name": "python3"
  },
  "language_info": {
   "codemirror_mode": {
    "name": "ipython",
    "version": 2
   },
   "file_extension": ".py",
   "mimetype": "text/x-python",
   "name": "python",
   "nbconvert_exporter": "python",
   "pygments_lexer": "ipython2",
   "version": "2.7.6"
  }
 },
 "nbformat": 4,
 "nbformat_minor": 5
}
